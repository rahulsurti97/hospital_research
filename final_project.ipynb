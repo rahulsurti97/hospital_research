{
 "cells": [
  {
   "cell_type": "code",
   "execution_count": 4,
   "metadata": {},
   "outputs": [
    {
     "name": "stdout",
     "output_type": "stream",
     "text": [
      "Modules Imported\n"
     ]
    }
   ],
   "source": [
    "import scipy.io\n",
    "from pylab import *\n",
    "from matplotlib import *\n",
    "import numpy as np\n",
    "import pandas as pd\n",
    "print (\"Modules Imported\")"
   ]
  },
  {
   "cell_type": "code",
   "execution_count": 33,
   "metadata": {},
   "outputs": [],
   "source": [
    "def convert_to_df(file):\n",
    "    # use scipy to load matlab file\n",
    "    matlab_data = scipy.io.loadmat('data/' + str(file))\n",
    "    \n",
    "    # create dataframe and transpose\n",
    "    df = pd.DataFrame(matlab_data['all_data']).T\n",
    "    \n",
    "    # create column headers\n",
    "    df.columns = [\n",
    "        'Mean Area Under Heart Beat',\n",
    "        'Mean R-to-R Peak Interval',\n",
    "        'Heart Rate',\n",
    "        'Peak to Peak Blood Pressure',\n",
    "        'Systolic Blood Pressure',\n",
    "        'Diastolic Blood Pressure',\n",
    "        'Pulse Pressure'\n",
    "    ]\n",
    "    \n",
    "    # add labels column\n",
    "    df['Golden Alarms'] = matlab_data['all_labels'][0]\n",
    "    \n",
    "    return df\n",
    "\n",
    "filenames = ['1_a41178.mat', '2_a42126.mat', '3_a40076.mat', \\\n",
    "             '4_a40050.mat', '5_a41287.mat', '6_a41846.mat', \\\n",
    "             '7_a41846.mat', '8_a42008.mat', '9_a41846.mat']\n",
    "\n",
    "patient_data = [convert_to_df(file) for file in filenames]\n",
    "\n",
    "# print (patient_data[0])\n",
    "\n",
    "# floor all data\n",
    "for df in patient_data:\n",
    "    for c in df.columns:\n",
    "        df[c] = df[c].apply(np.floor)\n",
    "\n",
    "# print (patient_data)"
   ]
  },
  {
   "cell_type": "code",
   "execution_count": 90,
   "metadata": {},
   "outputs": [],
   "source": [
    "# create arrays to hold train and test dataframes for each patient\n",
    "train_data = []\n",
    "test_data = []\n",
    "\n",
    "for df in patient_data:\n",
    "    # get split index\n",
    "    total = len(df)\n",
    "    split_idx = int(total * 2 / 3)\n",
    "    \n",
    "    # append [0, split_idx) to train_data\n",
    "    train_data.append(df.head(split_idx))\n",
    "    \n",
    "    # append [split_idx, total) to test data\n",
    "    test_data.append(df.tail(total - split_idx))\n",
    "    "
   ]
  },
  {
   "cell_type": "code",
   "execution_count": 91,
   "metadata": {
    "collapsed": true
   },
   "outputs": [],
   "source": [
    "# Task 1.1 \n",
    "# Part a\n",
    "goldenAlarmSum = 0\n",
    "totalColumn = 0\n",
    "\n",
    "for patient in test_data:\n",
    "    goldenAlarmSum += patient['Golden Alarms'].sum()\n",
    "    totalColumn += len(patient.index)\n",
    "\n",
    "# Calculate prior probabilities P(H_1) and P(H_0)\n",
    "PH_1 = goldenAlarmSum / totalColumn\n",
    "PH_0 = 1-PH_1"
   ]
  },
  {
   "cell_type": "code",
   "execution_count": 112,
   "metadata": {},
   "outputs": [
    {
     "ename": "SyntaxError",
     "evalue": "unexpected EOF while parsing (<ipython-input-112-73b216320102>, line 9)",
     "output_type": "error",
     "traceback": [
      "\u001b[0;36m  File \u001b[0;32m\"<ipython-input-112-73b216320102>\"\u001b[0;36m, line \u001b[0;32m9\u001b[0m\n\u001b[0;31m    \u001b[0m\n\u001b[0m    ^\u001b[0m\n\u001b[0;31mSyntaxError\u001b[0m\u001b[0;31m:\u001b[0m unexpected EOF while parsing\n"
     ]
    }
   ],
   "source": [
    "# Part b\n",
    "# print (test_data[0])\n",
    "# print (test_data)\n",
    "# dict = {}\n",
    "a = np.zeros((7, 10))\n",
    "print (a)\n",
    "# a[7][123] = 5\n",
    "# for patient in test_data:\n",
    "    "
   ]
  }
 ],
 "metadata": {
  "kernelspec": {
   "display_name": "Python 3",
   "language": "python",
   "name": "python3"
  },
  "language_info": {
   "codemirror_mode": {
    "name": "ipython",
    "version": 3
   },
   "file_extension": ".py",
   "mimetype": "text/x-python",
   "name": "python",
   "nbconvert_exporter": "python",
   "pygments_lexer": "ipython3",
   "version": "3.6.1"
  }
 },
 "nbformat": 4,
 "nbformat_minor": 2
}
