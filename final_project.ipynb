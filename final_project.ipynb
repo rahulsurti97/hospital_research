{
 "cells": [
  {
   "cell_type": "code",
   "execution_count": 1,
   "metadata": {
    "collapsed": true
   },
   "outputs": [],
   "source": [
    "import scipy.io\n",
    "from pylab import *\n",
    "from matplotlib import *\n",
    "import numpy as np\n",
    "import pandas as pd"
   ]
  },
  {
   "cell_type": "code",
   "execution_count": 2,
   "metadata": {
    "collapsed": true
   },
   "outputs": [],
   "source": [
    "def convert_to_df(file):\n",
    "    # use scipy to load matlab file\n",
    "    matlab_data = scipy.io.loadmat('data/' + str(file))\n",
    "    \n",
    "    # create dataframe and transpose\n",
    "    df = pd.DataFrame(matlab_data['all_data']).T\n",
    "    \n",
    "    # create column headers\n",
    "    df.columns = [\n",
    "        'Mean Area Under Heart Beat',\n",
    "        'Mean R-to-R Peak Interval',\n",
    "        'Heart Rate',\n",
    "        'Peak to Peak Blood Pressure',\n",
    "        'Systolic Blood Pressure',\n",
    "        'Diastolic Blood Pressure',\n",
    "        'Pulse Pressure'\n",
    "    ]\n",
    "    \n",
    "    # add labels column\n",
    "    df['Golden Alarms'] = matlab_data['all_labels'][0]\n",
    "    \n",
    "    return df\n",
    "\n",
    "filenames = ['1_a41178.mat', '2_a42126.mat', '3_a40076.mat', \\\n",
    "             '4_a40050.mat', '5_a41287.mat', '6_a41846.mat', \\\n",
    "             '7_a41846.mat', '8_a42008.mat', '9_a41846.mat']\n",
    "\n",
    "patient_data = [convert_to_df(file) for file in filenames]\n",
    "\n",
    "# floor all data\n",
    "for i in range(9):\n",
    "    df = patient_data[i]\n",
    "    for c in df.columns:\n",
    "        df[c] = df[c].apply(np.floor)"
   ]
  }
 ],
 "metadata": {
  "kernelspec": {
   "display_name": "Python 3",
   "language": "python",
   "name": "python3"
  },
  "language_info": {
   "codemirror_mode": {
    "name": "ipython",
    "version": 3
   },
   "file_extension": ".py",
   "mimetype": "text/x-python",
   "name": "python",
   "nbconvert_exporter": "python",
   "pygments_lexer": "ipython3",
   "version": "3.6.0"
  }
 },
 "nbformat": 4,
 "nbformat_minor": 2
}
